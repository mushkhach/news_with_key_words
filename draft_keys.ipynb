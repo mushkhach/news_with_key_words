{
 "cells": [
  {
   "cell_type": "code",
   "execution_count": null,
   "metadata": {
    "collapsed": true
   },
   "outputs": [],
   "source": [
    "import BeautifulSoup\n",
    "import json\n",
    "import sys\n",
    "import codecs\n",
    "reload(sys)\n",
    "sys.setdefaultencoding('utf-8')\n",
    "import codecs, sys\n",
    "key_word =\"Ադրբեջան ЦБ банк налог\"\n",
    "key_w=key_word.split()\n",
    "all_links=[]\n",
    "import re\n",
    "url=\"http://www.banki.ru/news/lenta/\"\n",
    "import requests\n",
    "response = requests.get(url)\n",
    "from BeautifulSoup import *\n",
    "my_page= response.text\n",
    "soup=BeautifulSoup(my_page)\n",
    "links=soup.findAll('a')\n",
    "for link in links:\n",
    "    for i in key_w:\n",
    "        if i in link.text:\n",
    "            all_links.append('<a href='+'http://banki.ru'+link['href'].encode('utf-8')+ '>'+ codecs.encode(link.text,'utf-8')+' </a>')\n",
    "url1=\"https://news.am\"\n",
    "import requests\n",
    "response = requests.get(url1)\n",
    "from BeautifulSoup import *\n",
    "my_page1= response.text\n",
    "soup1=BeautifulSoup(my_page1)\n",
    "links1=soup1.findAll('a')\n",
    "for link in links1:\n",
    "    for i in key_w:\n",
    "        if i in link.text:\n",
    "            all_links.append('<a href='+'http://news.am/'+link['href'].encode('utf-8')+ '>'+ codecs.encode(link.text,'utf-8')+' </a>')\n",
    "for i in all_links:\n",
    "    with codecs.open(\"output1.html\", \"a\", 'utf8' ) as file:\n",
    "        file.write(codecs.encode(str(i)+'<br>'+'<br>'+'<br>','utf8'))"
   ]
  },
  {
   "cell_type": "code",
   "execution_count": null,
   "metadata": {
    "collapsed": true
   },
   "outputs": [],
   "source": [
    "import BeautifulSoup\n",
    "import json\n",
    "import sys\n",
    "import codecs\n",
    "reload(sys)\n",
    "sys.setdefaultencoding('utf-8')\n",
    "import codecs, sys\n",
    "key_word = raw_input(\"Please input your keys - \")\n",
    "key_w=key_word.split()\n",
    "all_links=[]\n",
    "import re\n",
    "url=\"http://www.banki.ru/news/lenta/\"\n",
    "import requests\n",
    "response = requests.get(url)\n",
    "from BeautifulSoup import *\n",
    "my_page= response.text\n",
    "soup=BeautifulSoup(my_page)\n",
    "links=soup.findAll('a')\n",
    "for link in links:\n",
    "    for i in key_w:\n",
    "        if i in link.text:\n",
    "            all_links.append('<a href='+'http://banki.ru'+link['href'].encode('utf-8')+ '>'+ codecs.encode(link.text,'utf-8')+' </a>')\n",
    "url1=\"https://news.am\"\n",
    "import requests\n",
    "response = requests.get(url1)\n",
    "from BeautifulSoup import *\n",
    "my_page1= response.text\n",
    "soup1=BeautifulSoup(my_page1)\n",
    "links1=soup1.findAll('a')\n",
    "for link in links1:\n",
    "    for i in key_w:\n",
    "        if i in link.text:\n",
    "            all_links.append('<a href='+'http://news.am/'+link['href'].encode('utf-8')+ '>'+ codecs.encode(link.text,'utf-8')+' </a>')\n",
    "for i in all_links:\n",
    "    with codecs.open(\"output1.html\", \"a\", 'utf8' ) as file:\n",
    "        file.write(codecs.encode(str(i)+'<br>'+'<br>'+'<br>','utf8'))"
   ]
  }
 ],
 "metadata": {
  "kernelspec": {
   "display_name": "Python 2",
   "language": "python",
   "name": "python2"
  },
  "language_info": {
   "codemirror_mode": {
    "name": "ipython",
    "version": 2
   },
   "file_extension": ".py",
   "mimetype": "text/x-python",
   "name": "python",
   "nbconvert_exporter": "python",
   "pygments_lexer": "ipython2",
   "version": "2.7.13"
  }
 },
 "nbformat": 4,
 "nbformat_minor": 2
}
